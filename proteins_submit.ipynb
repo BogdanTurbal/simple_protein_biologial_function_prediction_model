{
  "metadata": {
    "kernelspec": {
      "language": "python",
      "display_name": "Python 3",
      "name": "python3"
    },
    "language_info": {
      "name": "python",
      "version": "3.10.12",
      "mimetype": "text/x-python",
      "codemirror_mode": {
        "name": "ipython",
        "version": 3
      },
      "pygments_lexer": "ipython3",
      "nbconvert_exporter": "python",
      "file_extension": ".py"
    },
    "colab": {
      "provenance": [],
      "include_colab_link": true
    }
  },
  "nbformat_minor": 0,
  "nbformat": 4,
  "cells": [
    {
      "cell_type": "markdown",
      "metadata": {
        "id": "view-in-github",
        "colab_type": "text"
      },
      "source": [
        "<a href=\"https://colab.research.google.com/github/BogdanTurbal/simple_protein_biologial_function_prediction_model/blob/main/proteins_submit.ipynb\" target=\"_parent\"><img src=\"https://colab.research.google.com/assets/colab-badge.svg\" alt=\"Open In Colab\"/></a>"
      ]
    },
    {
      "cell_type": "code",
      "source": [
        "import tensorflow as tf\n",
        "import pandas as pd\n",
        "import numpy as np\n",
        "import seaborn as sns\n",
        "import matplotlib.pyplot as plt\n",
        "from tqdm import tqdm\n",
        "import os\n",
        "# Required for progressbar widget\n",
        "import progressbar"
      ],
      "metadata": {
        "_uuid": "8f2839f25d086af736a60e9eeb907d3b93b6e0e5",
        "_cell_guid": "b1076dfc-b9ad-4769-8c92-a6c4dae69d19",
        "execution": {
          "iopub.status.busy": "2023-07-15T06:20:48.643678Z",
          "iopub.execute_input": "2023-07-15T06:20:48.644598Z",
          "iopub.status.idle": "2023-07-15T06:20:58.791978Z",
          "shell.execute_reply.started": "2023-07-15T06:20:48.644561Z",
          "shell.execute_reply": "2023-07-15T06:20:58.789796Z"
        },
        "trusted": true,
        "id": "980n1itDp_w3",
        "outputId": "8ab5a1dd-4c30-4e31-d45d-486a9a874256"
      },
      "execution_count": null,
      "outputs": [
        {
          "name": "stderr",
          "text": "/opt/conda/lib/python3.10/site-packages/scipy/__init__.py:146: UserWarning: A NumPy version >=1.16.5 and <1.23.0 is required for this version of SciPy (detected version 1.23.5\n  warnings.warn(f\"A NumPy version >={np_minversion} and <{np_maxversion}\"\n/opt/conda/lib/python3.10/site-packages/tensorflow_io/python/ops/__init__.py:98: UserWarning: unable to load libtensorflow_io_plugins.so: unable to open file: libtensorflow_io_plugins.so, from paths: ['/opt/conda/lib/python3.10/site-packages/tensorflow_io/python/ops/libtensorflow_io_plugins.so']\ncaused by: ['/opt/conda/lib/python3.10/site-packages/tensorflow_io/python/ops/libtensorflow_io_plugins.so: undefined symbol: _ZN3tsl6StatusC1EN10tensorflow5error4CodeESt17basic_string_viewIcSt11char_traitsIcEENS_14SourceLocationE']\n  warnings.warn(f\"unable to load libtensorflow_io_plugins.so: {e}\")\n/opt/conda/lib/python3.10/site-packages/tensorflow_io/python/ops/__init__.py:104: UserWarning: file system plugins are not loaded: unable to open file: libtensorflow_io.so, from paths: ['/opt/conda/lib/python3.10/site-packages/tensorflow_io/python/ops/libtensorflow_io.so']\ncaused by: ['/opt/conda/lib/python3.10/site-packages/tensorflow_io/python/ops/libtensorflow_io.so: undefined symbol: _ZTVN10tensorflow13GcsFileSystemE']\n  warnings.warn(f\"file system plugins are not loaded: {e}\")\n",
          "output_type": "stream"
        }
      ]
    },
    {
      "cell_type": "markdown",
      "source": [
        "#Load data\n"
      ],
      "metadata": {
        "id": "OXV0bRunqC7C"
      }
    },
    {
      "cell_type": "code",
      "source": [
        "train_terms = pd.read_csv(\"/kaggle/input/cafa-5-protein-function-prediction/Train/train_terms.tsv\",sep=\"\\t\")\n",
        "# Set the limit for label\n",
        "num_of_labels = 1500\n",
        "# Take value counts in descending order and fetch first 1500 `GO term ID` as labels\n",
        "labels = train_terms['term'].value_counts().index[:num_of_labels].tolist()"
      ],
      "metadata": {
        "execution": {
          "iopub.status.busy": "2023-07-15T06:20:58.793985Z",
          "iopub.execute_input": "2023-07-15T06:20:58.794655Z",
          "iopub.status.idle": "2023-07-15T06:21:02.597784Z",
          "shell.execute_reply.started": "2023-07-15T06:20:58.794621Z",
          "shell.execute_reply": "2023-07-15T06:21:02.596544Z"
        },
        "trusted": true,
        "id": "icLv_pa9p_w7"
      },
      "execution_count": null,
      "outputs": []
    },
    {
      "cell_type": "markdown",
      "source": [
        "#Define model"
      ],
      "metadata": {
        "id": "Wmr6fiB_qFZY"
      }
    },
    {
      "cell_type": "code",
      "source": [
        "INPUT_SHAPE = [1024]#[train_df.shape[1]]\n",
        "BATCH_SIZE = 512\n",
        "\n",
        "model = tf.keras.Sequential([\n",
        "    #tf.keras.layers.BatchNormalization(input_shape=INPUT_SHAPE),\n",
        "    tf.keras.layers.Dense(units=896, activation='relu'),\n",
        "    tf.keras.layers.Dropout(0.1),\n",
        "    tf.keras.layers.BatchNormalization(),\n",
        "\n",
        "    tf.keras.layers.Dense(units=896, activation='relu'),\n",
        "    tf.keras.layers.Dropout(0.1),\n",
        "    tf.keras.layers.BatchNormalization(),\n",
        "\n",
        "    tf.keras.layers.Dense(units=768, activation='relu'),\n",
        "    tf.keras.layers.Dropout(0.1),\n",
        "    tf.keras.layers.BatchNormalization(),\n",
        "\n",
        "    tf.keras.layers.Dense(units=768, activation='relu'),\n",
        "    tf.keras.layers.Dense(units=num_of_labels, activation='sigmoid')\n",
        "])\n",
        "\n",
        "\n",
        "# Compile model\n",
        "model.compile(\n",
        "    optimizer=tf.keras.optimizers.Adam(learning_rate=0.001),\n",
        "    loss=tf.keras.losses.BinaryCrossentropy(from_logits=False),\n",
        "    metrics=[tf.keras.metrics.Accuracy(), tf.keras.metrics.Recall(), tf.keras.metrics.AUC()]\n",
        ")\n",
        "_ = model(tf.zeros((1, 1024)))\n",
        "model.load_weights('/kaggle/input/model-weights-3/model_v_3_0 (1).h5')"
      ],
      "metadata": {
        "execution": {
          "iopub.status.busy": "2023-07-15T06:21:02.599431Z",
          "iopub.execute_input": "2023-07-15T06:21:02.599788Z",
          "iopub.status.idle": "2023-07-15T06:21:03.164728Z",
          "shell.execute_reply.started": "2023-07-15T06:21:02.599754Z",
          "shell.execute_reply": "2023-07-15T06:21:03.163524Z"
        },
        "trusted": true,
        "id": "YcvQ_YnAp_w8"
      },
      "execution_count": null,
      "outputs": []
    },
    {
      "cell_type": "code",
      "source": [
        "model.summary()"
      ],
      "metadata": {
        "execution": {
          "iopub.status.busy": "2023-07-15T06:21:03.167393Z",
          "iopub.execute_input": "2023-07-15T06:21:03.167761Z",
          "iopub.status.idle": "2023-07-15T06:21:03.204567Z",
          "shell.execute_reply.started": "2023-07-15T06:21:03.167729Z",
          "shell.execute_reply": "2023-07-15T06:21:03.203504Z"
        },
        "trusted": true,
        "id": "c5rGZqYAp_w9",
        "outputId": "8f90b798-8132-4dd7-f9c1-e5b7e64e3c4f"
      },
      "execution_count": null,
      "outputs": [
        {
          "name": "stdout",
          "text": "Model: \"sequential\"\n_________________________________________________________________\n Layer (type)                Output Shape              Param #   \n=================================================================\n dense (Dense)               (1, 896)                  918400    \n                                                                 \n dropout (Dropout)           (1, 896)                  0         \n                                                                 \n batch_normalization (BatchN  (1, 896)                 3584      \n ormalization)                                                   \n                                                                 \n dense_1 (Dense)             (1, 896)                  803712    \n                                                                 \n dropout_1 (Dropout)         (1, 896)                  0         \n                                                                 \n batch_normalization_1 (Batc  (1, 896)                 3584      \n hNormalization)                                                 \n                                                                 \n dense_2 (Dense)             (1, 768)                  688896    \n                                                                 \n dropout_2 (Dropout)         (1, 768)                  0         \n                                                                 \n batch_normalization_2 (Batc  (1, 768)                 3072      \n hNormalization)                                                 \n                                                                 \n dense_3 (Dense)             (1, 768)                  590592    \n                                                                 \n dense_4 (Dense)             (1, 1500)                 1153500   \n                                                                 \n=================================================================\nTotal params: 4,165,340\nTrainable params: 4,160,220\nNon-trainable params: 5,120\n_________________________________________________________________\n",
          "output_type": "stream"
        }
      ]
    },
    {
      "cell_type": "code",
      "source": [
        "test_embeddings = np.load('/kaggle/input/t5embeds/test_embeds.npy')\n",
        "\n",
        "# Convert test_embeddings to dataframe\n",
        "column_num = test_embeddings.shape[1]\n",
        "test_df = pd.DataFrame(test_embeddings, columns = [\"Column_\" + str(i) for i in range(1, column_num+1)])\n",
        "print(test_df.shape)"
      ],
      "metadata": {
        "execution": {
          "iopub.status.busy": "2023-07-15T06:21:03.206232Z",
          "iopub.execute_input": "2023-07-15T06:21:03.206654Z",
          "iopub.status.idle": "2023-07-15T06:21:12.263668Z",
          "shell.execute_reply.started": "2023-07-15T06:21:03.206613Z",
          "shell.execute_reply": "2023-07-15T06:21:12.262527Z"
        },
        "trusted": true,
        "id": "mV2uHQhtp_w9",
        "outputId": "538799d5-f27e-4505-8ccc-ba5b7d05e7ad"
      },
      "execution_count": null,
      "outputs": [
        {
          "name": "stdout",
          "text": "(141865, 1024)\n",
          "output_type": "stream"
        }
      ]
    },
    {
      "cell_type": "code",
      "source": [
        "predictions =  model.predict(test_df)"
      ],
      "metadata": {
        "execution": {
          "iopub.status.busy": "2023-07-15T06:21:12.265058Z",
          "iopub.execute_input": "2023-07-15T06:21:12.265470Z",
          "iopub.status.idle": "2023-07-15T06:21:50.915289Z",
          "shell.execute_reply.started": "2023-07-15T06:21:12.265438Z",
          "shell.execute_reply": "2023-07-15T06:21:50.914217Z"
        },
        "trusted": true,
        "id": "gQ5lcrYup_w-",
        "outputId": "b5638f05-46e3-402c-a08a-2eaa9cb70bdb"
      },
      "execution_count": null,
      "outputs": [
        {
          "name": "stdout",
          "text": "4434/4434 [==============================] - 34s 8ms/step\n",
          "output_type": "stream"
        }
      ]
    },
    {
      "cell_type": "code",
      "source": [
        "df_submission = pd.DataFrame(columns = ['Protein Id', 'GO Term Id','Prediction'])\n",
        "test_protein_ids = np.load('/kaggle/input/t5embeds/test_ids.npy')\n",
        "l = []\n",
        "for k in list(test_protein_ids):\n",
        "    l += [ k] * predictions.shape[1]\n",
        "\n",
        "df_submission['Protein Id'] = l\n",
        "df_submission['GO Term Id'] = labels * predictions.shape[0]\n",
        "df_submission['Prediction'] = predictions.ravel()\n",
        "df_submission.to_csv(\"submission.tsv\",header=False, index=False, sep=\"\\t\")"
      ],
      "metadata": {
        "execution": {
          "iopub.status.busy": "2023-07-15T06:21:50.916738Z",
          "iopub.execute_input": "2023-07-15T06:21:50.917077Z",
          "iopub.status.idle": "2023-07-15T06:33:26.655845Z",
          "shell.execute_reply.started": "2023-07-15T06:21:50.917048Z",
          "shell.execute_reply": "2023-07-15T06:33:26.652956Z"
        },
        "trusted": true,
        "id": "NOvAD_IBp_w-"
      },
      "execution_count": null,
      "outputs": []
    },
    {
      "cell_type": "code",
      "source": [
        "df_submission"
      ],
      "metadata": {
        "execution": {
          "iopub.status.busy": "2023-07-15T06:33:26.660240Z",
          "iopub.execute_input": "2023-07-15T06:33:26.660674Z",
          "iopub.status.idle": "2023-07-15T06:33:26.687444Z",
          "shell.execute_reply.started": "2023-07-15T06:33:26.660641Z",
          "shell.execute_reply": "2023-07-15T06:33:26.686056Z"
        },
        "trusted": true,
        "id": "5mrdQfGqp_w_",
        "outputId": "0854fcca-3486-42f4-89c2-0943247d7b27"
      },
      "execution_count": null,
      "outputs": [
        {
          "execution_count": 8,
          "output_type": "execute_result",
          "data": {
            "text/plain": "           Protein Id  GO Term Id    Prediction\n0              Q9CQV8  GO:0005575  6.567487e-01\n1              Q9CQV8  GO:0008150  6.297429e-01\n2              Q9CQV8  GO:0110165  6.341953e-01\n3              Q9CQV8  GO:0003674  7.591765e-01\n4              Q9CQV8  GO:0005622  4.251500e-01\n...               ...         ...           ...\n212797495  A0A3G2FQK2  GO:0051783  5.779548e-03\n212797496  A0A3G2FQK2  GO:0031674  3.634445e-04\n212797497  A0A3G2FQK2  GO:0001818  4.518046e-05\n212797498  A0A3G2FQK2  GO:0006874  1.995342e-06\n212797499  A0A3G2FQK2  GO:0016887  3.555431e-07\n\n[212797500 rows x 3 columns]",
            "text/html": "<div>\n<style scoped>\n    .dataframe tbody tr th:only-of-type {\n        vertical-align: middle;\n    }\n\n    .dataframe tbody tr th {\n        vertical-align: top;\n    }\n\n    .dataframe thead th {\n        text-align: right;\n    }\n</style>\n<table border=\"1\" class=\"dataframe\">\n  <thead>\n    <tr style=\"text-align: right;\">\n      <th></th>\n      <th>Protein Id</th>\n      <th>GO Term Id</th>\n      <th>Prediction</th>\n    </tr>\n  </thead>\n  <tbody>\n    <tr>\n      <th>0</th>\n      <td>Q9CQV8</td>\n      <td>GO:0005575</td>\n      <td>6.567487e-01</td>\n    </tr>\n    <tr>\n      <th>1</th>\n      <td>Q9CQV8</td>\n      <td>GO:0008150</td>\n      <td>6.297429e-01</td>\n    </tr>\n    <tr>\n      <th>2</th>\n      <td>Q9CQV8</td>\n      <td>GO:0110165</td>\n      <td>6.341953e-01</td>\n    </tr>\n    <tr>\n      <th>3</th>\n      <td>Q9CQV8</td>\n      <td>GO:0003674</td>\n      <td>7.591765e-01</td>\n    </tr>\n    <tr>\n      <th>4</th>\n      <td>Q9CQV8</td>\n      <td>GO:0005622</td>\n      <td>4.251500e-01</td>\n    </tr>\n    <tr>\n      <th>...</th>\n      <td>...</td>\n      <td>...</td>\n      <td>...</td>\n    </tr>\n    <tr>\n      <th>212797495</th>\n      <td>A0A3G2FQK2</td>\n      <td>GO:0051783</td>\n      <td>5.779548e-03</td>\n    </tr>\n    <tr>\n      <th>212797496</th>\n      <td>A0A3G2FQK2</td>\n      <td>GO:0031674</td>\n      <td>3.634445e-04</td>\n    </tr>\n    <tr>\n      <th>212797497</th>\n      <td>A0A3G2FQK2</td>\n      <td>GO:0001818</td>\n      <td>4.518046e-05</td>\n    </tr>\n    <tr>\n      <th>212797498</th>\n      <td>A0A3G2FQK2</td>\n      <td>GO:0006874</td>\n      <td>1.995342e-06</td>\n    </tr>\n    <tr>\n      <th>212797499</th>\n      <td>A0A3G2FQK2</td>\n      <td>GO:0016887</td>\n      <td>3.555431e-07</td>\n    </tr>\n  </tbody>\n</table>\n<p>212797500 rows × 3 columns</p>\n</div>"
          },
          "metadata": {}
        }
      ]
    },
    {
      "cell_type": "code",
      "source": [],
      "metadata": {
        "id": "O5DVx1_Vp_xA"
      },
      "execution_count": null,
      "outputs": []
    }
  ]
}